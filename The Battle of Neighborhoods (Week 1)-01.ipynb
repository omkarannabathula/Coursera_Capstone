{
    "nbformat_minor": 1, 
    "cells": [
        {
            "source": "## The Battle of the Neighborhoods (Week-1)\n\n###  Business Problem Introduction\n\n###### PROBLEM & BACKGROUND\nToronto and New York are the famous places in the world. They are diverse in many ways. Both are multicultural as well as the financial hubs of their respective countries. We want to explore how much they are similar or dissimilar in aspects from a tourist point of view regarding food, accommodation, beautiful places, and many more.\nToday Tourism is one of the pillars of the economy and the people most often visits those countries who are rich in heritage and developed enough from a foreign prospective, like friendly environment. Every city is unique in their own way and give something new. And now the information is so common regarding location of every place around the world on your fingertips which make it easier to explore. Therefore, tourists always eager to travel to different places on the basis of available information, and the comparison (the part of the information) between the two cities always assist to choose the specific places or according to their choice.\n\n###### Description of Problem\nA restaurant is a business which prepares and serves food and drink to customers in return for money, either paid before the meal, after the meal, or with an open account. The City of New York is famous for its excelllent cuisine. It's food culture includes an array of international cuisines influenced by the city's immigrant history.\n\nCentral and Eastern European immigrants, especially Jewish immigrants - bagels, cheesecake, hot dogs, knishes, and delicatessens Italian immigrants - New York-style pizza and Italian cuisine Jewish immigrants and Irish immigrants - pastrami and corned beef Chinese and other Asian restaurants, sandwich joints, trattorias, diners, and coffeehouses are ubiquitous throughout the city mobile food vendors - Some 4,000 licensed by the city Middle Eastern foods such as falafel and kebabs examples of modern New York street food It is famous for not just Pizzerias, Cafe's but also for fine dining Michelin starred restaurants.The city is home to \"nearly one thousand of the finest and most diverse haute cuisine restaurants in the world\", according to Michelin. So it is evident that to survive in such competitive market it is very important to startegically plan. Various factors need to be studied inorder to decide on the Location such as :\n\nNew York Population New York City Demographics Are there any Farmers Markets, Wholesale markets etc nearby so that the ingredients can be purchased fresh to maintain quality and cost? Are there any venues like Gyms, Entertainmnet zones, Parks etc nearby where floating population is high etc Who are the competitors in that location? Cuisine served / Menu of the competitors Segmentation of the Borough Untapped markets Saturated markets etc The list can go on... Eventhough well funded XYZ Company Ltd. need to choose the correct location to start its first venture.If this is successful they can replicate the same in other locations. First move is very important, thereby choice of location is very important.\n\n###### Target Audience:\nTo recommend the correct location, XYZ Company Ltd has appointed me to lead of the Data Science team. The objective is to locate and recommend to the management which neighborhood of Newyork city will be best choice to start a restaurant. The Management also expects to understand the rationale of the recommendations made.\n\nThis would interest anyone who wants to start a new restaurant in Newyork city.\n\n###### Success Criteria:\nThe success criteria of the project will be a good recommendation of borough/Neighborhood choice to XYZ Company Ltd based on Lack of such restaurants in that location and nearest suppliers of ingredients.\n", 
            "cell_type": "markdown", 
            "metadata": {
                "collapsed": true
            }
        }
    ], 
    "metadata": {
        "kernelspec": {
            "display_name": "Python 3.5", 
            "name": "python3", 
            "language": "python"
        }, 
        "language_info": {
            "mimetype": "text/x-python", 
            "nbconvert_exporter": "python", 
            "version": "3.5.5", 
            "name": "python", 
            "file_extension": ".py", 
            "pygments_lexer": "ipython3", 
            "codemirror_mode": {
                "version": 3, 
                "name": "ipython"
            }
        }
    }, 
    "nbformat": 4
}