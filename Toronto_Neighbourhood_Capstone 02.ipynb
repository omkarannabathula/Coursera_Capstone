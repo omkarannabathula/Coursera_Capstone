{
    "nbformat_minor": 1, 
    "cells": [
        {
            "source": "## Segmenting and Clustering Neighborhoods in Toronto #2", 
            "cell_type": "markdown", 
            "metadata": {
                "collapsed": true
            }
        }, 
        {
            "source": "#### Import Libraries", 
            "cell_type": "markdown", 
            "metadata": {}
        }, 
        {
            "execution_count": null, 
            "cell_type": "code", 
            "metadata": {}, 
            "outputs": [
                {
                    "output_type": "stream", 
                    "name": "stdout", 
                    "text": "Solving environment: / "
                }
            ], 
            "source": "!conda install -c conda-forge geocoder --yes #installing beautiful soup\nimport numpy as np # library to handle data in a vectorized manner\nimport pandas as pd # library for data analsysis\n\nprint('Libraries imported.')"
        }, 
        {
            "execution_count": 2, 
            "cell_type": "code", 
            "metadata": {}, 
            "outputs": [
                {
                    "execution_count": 2, 
                    "metadata": {}, 
                    "data": {
                        "text/plain": "(103, 3)"
                    }, 
                    "output_type": "execute_result"
                }
            ], 
            "source": "dfs = pd.read_html('https://en.wikipedia.org/wiki/List_of_postal_codes_of_Canada:_M',header=0)\ndf = dfs[0] #only interestested in the first table\n\n# Dropping all rows with an unassigned Borough\ndata1 = df[df.Borough != 'Not assigned']\ndata1.reset_index(inplace=True)\ndata1 = data1.drop(['index'], axis=1)\n\n# Assigning Neighbourhood to Borough if not assigned\ndata1['Neighbourhood'] = np.where(data1.Neighbourhood == 'Not assigned', data1.Borough, data1.Neighbourhood)\n\ndata2 = data1.groupby(['Postcode', 'Borough'], sort=False)['Neighbourhood'].apply(lambda x: ', '.join(x))\n\ndata = pd.DataFrame(data2).reset_index(inplace=False)\n\n# Getting the shape of the data\n[maxRow,maxCol]=data.shape\nmaxRow,maxCol"
        }, 
        {
            "execution_count": null, 
            "cell_type": "code", 
            "metadata": {}, 
            "outputs": [], 
            "source": "import geocoder # import geocoder\n\n# Setting parameters for start and end\nstart = data.index[1]       \nend = data.index[maxRow-1]   \n\n# initialize your variable to None\nlat_lng_coords = None\n\nfor i in range(start,end+1,1):    # iterate all rows in the data\n\n    # loop until you get the coordinates\n    while(lat_lng_coords is None):\n      g = geocoder.google(data.Borough[i] + ' ' + data.Postcode[i])\n      lat_lng_coords = g.latlng\n\n    data.latitude[i] = lat_lng_coords[0]\n    data.longitude[i] = lat_lng_coords[1]  "
        }, 
        {
            "execution_count": null, 
            "cell_type": "code", 
            "metadata": {}, 
            "outputs": [], 
            "source": "latlong_df = pd.read_csv(\"http://cocl.us/Geospatial_data\")\nlatlong_df.columns = ['Postcode', 'Latitude', 'Longitude'] #renaming Postal Code to Post Code to match first dataframe\nlatlong_df"
        }, 
        {
            "execution_count": null, 
            "cell_type": "code", 
            "metadata": {}, 
            "outputs": [], 
            "source": "finaldf = pd.merge(data, latlong_df)\nfinaldf"
        }, 
        {
            "execution_count": null, 
            "cell_type": "code", 
            "metadata": {}, 
            "outputs": [], 
            "source": ""
        }
    ], 
    "metadata": {
        "kernelspec": {
            "display_name": "Python 3.5", 
            "name": "python3", 
            "language": "python"
        }, 
        "language_info": {
            "mimetype": "text/x-python", 
            "nbconvert_exporter": "python", 
            "version": "3.5.5", 
            "name": "python", 
            "file_extension": ".py", 
            "pygments_lexer": "ipython3", 
            "codemirror_mode": {
                "version": 3, 
                "name": "ipython"
            }
        }
    }, 
    "nbformat": 4
}